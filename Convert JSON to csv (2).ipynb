{
 "cells": [
  {
   "cell_type": "code",
   "execution_count": 15,
   "metadata": {},
   "outputs": [],
   "source": [
    "import csv, json, sys"
   ]
  },
  {
   "cell_type": "code",
   "execution_count": 16,
   "metadata": {},
   "outputs": [],
   "source": [
    "# import sys\n",
    "# !{sys.executable} -m pip install pandas"
   ]
  },
  {
   "cell_type": "code",
   "execution_count": 17,
   "metadata": {},
   "outputs": [],
   "source": [
    "import pandas as pd "
   ]
  },
  {
   "cell_type": "code",
   "execution_count": 20,
   "metadata": {},
   "outputs": [],
   "source": [
    "if sys.argv[1] is not None and sys.argv[2] is not None:\n",
    "    fileInput = 'response211.json'\n",
    "    fileOutput = 'testcomplete.csv'"
   ]
  },
  {
   "cell_type": "code",
   "execution_count": 21,
   "metadata": {},
   "outputs": [],
   "source": [
    "# pandas is historically more successful with converting all data\n",
    "with open(fileInput, encoding='utf-8-sig') as f_input:\n",
    "    df = pd.read_json(f_input)"
   ]
  },
  {
   "cell_type": "code",
   "execution_count": 22,
   "metadata": {},
   "outputs": [
    {
     "name": "stdout",
     "output_type": "stream",
     "text": [
      "New .csv file is ready and Lit (hopefully)\n"
     ]
    }
   ],
   "source": [
    "df.to_csv(fileOutput, encoding='utf-8', index=False)\n",
    "print ('New .csv file is ready and Lit (hopefully)')"
   ]
  },
  {
   "cell_type": "code",
   "execution_count": 13,
   "metadata": {},
   "outputs": [],
   "source": [
    "# Alternate option, but tends to crap out before all days/rows are processed\n",
    "\n",
    "# # sys.setdefaultencoding(\"UTF-8\") #set the encode to utf8\n",
    "# #check if you pass the input file and output file\n",
    "# if sys.argv[1] is not None and sys.argv[2] is not None:\n",
    "#     fileInput = 'response5.json'\n",
    "#     fileOutput = 'response5.csv'\n",
    "#     inputFile = open(fileInput) #open json file\n",
    "#     outputFile = open(fileOutput, 'w') #load csv file\n",
    "#     data = json.load(inputFile) #load json content\n",
    "#     inputFile.close() #close the input file\n",
    "#     output = csv.writer(outputFile) #create a csv.write\n",
    "#     output.writerow(data[0].keys())  # header row\n",
    "#     for row in data:\n",
    "#         output.writerow(row.values()) #values row\n",
    "# print ('New .csv file is Lit')"
   ]
  }
 ],
 "metadata": {
  "kernelspec": {
   "display_name": "Python 3",
   "language": "python",
   "name": "python3"
  },
  "language_info": {
   "codemirror_mode": {
    "name": "ipython",
    "version": 3
   },
   "file_extension": ".py",
   "mimetype": "text/x-python",
   "name": "python",
   "nbconvert_exporter": "python",
   "pygments_lexer": "ipython3",
   "version": "3.7.6"
  }
 },
 "nbformat": 4,
 "nbformat_minor": 4
}
